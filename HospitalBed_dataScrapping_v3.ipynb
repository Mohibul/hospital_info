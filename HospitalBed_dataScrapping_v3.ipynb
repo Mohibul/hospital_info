{
 "cells": [
  {
   "cell_type": "markdown",
   "metadata": {},
   "source": [
    "# Extraction using PyPDF2"
   ]
  },
  {
   "cell_type": "code",
   "execution_count": 1,
   "metadata": {},
   "outputs": [],
   "source": [
    "#!pip install PyPDF2\n",
    "#!pip install tqdm\n",
    "import pandas as pd\n",
    "import numpy as np\n",
    "import tqdm\n",
    "import re\n",
    "import PyPDF2\n"
   ]
  },
  {
   "cell_type": "markdown",
   "metadata": {},
   "source": [
    "# Functions"
   ]
  },
  {
   "cell_type": "code",
   "execution_count": 2,
   "metadata": {},
   "outputs": [],
   "source": [
    "def text_extractor(filename,pagenum):\n",
    "    pdf=open((filename+'.pdf'), mode='rb')\n",
    "    pdf_document=PyPDF2.PdfFileReader(pdf)\n",
    "    target_page = pdf_document.getPage(pagenum-1)\n",
    "    data = target_page.extractText()\n",
    "    return data\n",
    "def num_check(s):\n",
    "    return any(i.isdigit() for i in s)\n",
    "def bed_extractor(filename, pagenum):\n",
    "    ext_data = text_extractor(filename,pagenum)\n",
    "    samples = re.findall(r'\\w+', ext_data)\n",
    "    num = 0\n",
    "    for items in samples:\n",
    "        if 'Total' in items:\n",
    "            target = re.findall(r'\\d+', items)\n",
    "            num = (target[1][2:])\n",
    "        if 'facilityName' in items:\n",
    "            name = items[12:] + ' Upazila Health Complex'\n",
    "    if num == 0:\n",
    "        pagenum = pagenum+1\n",
    "        ext_data = text_extractor(filename,pagenum)\n",
    "        samples = re.findall(r'\\w+', ext_data)\n",
    "        for items in samples:\n",
    "            if 'Total' in items:\n",
    "                target = re.findall(r'\\d+', items)\n",
    "                num = (target[1][2:])\n",
    "            if 'Source' in items:\n",
    "                if num_check(items):\n",
    "                     num = num + (items[:-6])\n",
    "    \n",
    "    return [name, int(num)]"
   ]
  },
  {
   "cell_type": "markdown",
   "metadata": {},
   "source": [
    "# Extraction"
   ]
  },
  {
   "cell_type": "code",
   "execution_count": 21,
   "metadata": {},
   "outputs": [
    {
     "name": "stdout",
     "output_type": "stream",
     "text": [
      "                                  Name Beds\n",
      "0    Abhoynagar Upazila Health Complex   50\n",
      "1     Adamdighi Upazila Health Complex   70\n",
      "2      Aditmari Upazila Health Complex   50\n",
      "3    Agailjhara Upazila Health Complex   50\n",
      "4    Azmiriganj Upazila Health Complex   31\n",
      "..                                 ...  ...\n",
      "461      Ulipur Upazila Health Complex   50\n",
      "462    Ullapara Upazila Health Complex   81\n",
      "463    Wazirpur Upazila Health Complex   50\n",
      "464     Zanjira Upazila Health Complex   31\n",
      "465    Zokiganj Upazila Health Complex   31\n",
      "\n",
      "[466 rows x 2 columns]\n",
      "[51, 53, 67, 80, 87, 90, 121, 125, 144, 161, 208, 221, 294, 307, 381]\n"
     ]
    }
   ],
   "source": [
    "# files = ['1','3','10','15','20', '458']\n",
    "pagenum = 2\n",
    "USC_data = pd.DataFrame(columns = ['Name', 'Beds'])\n",
    "others=[]   \n",
    "for ind in range(1,482):\n",
    "    try:\n",
    "        place = len(USC_data)\n",
    "        USC_data.loc[place] = bed_extractor('D:/bd health/upazilla/'+str(ind),pagenum)\n",
    "    except:\n",
    "        others.append(ind)\n",
    "\n",
    "print(USC_data)\n",
    "print(others)"
   ]
  },
  {
   "cell_type": "code",
   "execution_count": 23,
   "metadata": {},
   "outputs": [],
   "source": [
    "USC_data.to_csv('D:/bd health/upazilla excel files/upazilla_bed_pypdf2.csv')"
   ]
  },
  {
   "cell_type": "code",
   "execution_count": null,
   "metadata": {},
   "outputs": [],
   "source": []
  }
 ],
 "metadata": {
  "kernelspec": {
   "display_name": "Python 3",
   "language": "python",
   "name": "python3"
  },
  "language_info": {
   "codemirror_mode": {
    "name": "ipython",
    "version": 3
   },
   "file_extension": ".py",
   "mimetype": "text/x-python",
   "name": "python",
   "nbconvert_exporter": "python",
   "pygments_lexer": "ipython3",
   "version": "3.6.10"
  }
 },
 "nbformat": 4,
 "nbformat_minor": 2
}
