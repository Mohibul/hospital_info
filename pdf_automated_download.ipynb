{
 "cells": [
  {
   "cell_type": "code",
   "execution_count": 1,
   "metadata": {},
   "outputs": [],
   "source": [
    "from selenium import webdriver"
   ]
  },
  {
   "cell_type": "code",
   "execution_count": 2,
   "metadata": {},
   "outputs": [],
   "source": [
    "from selenium.webdriver.common.keys import Keys "
   ]
  },
  {
   "cell_type": "code",
   "execution_count": 4,
   "metadata": {},
   "outputs": [],
   "source": [
    "import time\n",
    "driver = webdriver.Chrome(executable_path='C:/Users/Khan/chromedriver_win32/chromedriver.exe')\n",
    "driver.get('http://103.247.238.81/webportal/pages/rtlhb.php?type=28')\n",
    "driver.find_element_by_xpath('//*[@id=\"control\"]').click()\n",
    "time.sleep(7)\n",
    "# print(driver.title)\n",
    "driver.close()\n",
    "\n",
    "for x in range(1,11):    \n",
    "    \n",
    "    driver = webdriver.Chrome(executable_path='C:/Users/Khan/chromedriver_win32/chromedriver.exe')\n",
    "\n",
    "    driver.get('http://103.247.238.81/webportal/pages/rtlhb.php?type=28')\n",
    "\n",
    "    from selenium.webdriver.support.ui import Select\n",
    "\n",
    "    driver.maximize_window()\n",
    "    \n",
    "    \n",
    "#     numbers = Select(driver.find_element_by_xpath('//*[@id=\"employee-grid_length\"]/label/select'))\n",
    "#     numbers.select_by_visible_text('100')\n",
    "    \n",
    "    driver.find_element_by_xpath('//*[@id=\"employee-grid_paginate\"]/ul/li[2]/a').click()\n",
    "    \n",
    "   \n",
    "#     from selenium.webdriver.support.ui import WebDriverWait\n",
    "#     from selenium.webdriver.support import expected_conditions as EC  \n",
    "#     WebDriverWait(driver, 30).until(EC.presence_of_element_located(driver.find_element_by_id('year'+str(x))))\n",
    "    \n",
    "    time.sleep(10)\n",
    "    \n",
    "    drp = Select(driver.find_element_by_xpath('//*[@id=\"year'+str(x)+'\"]'))\n",
    "    drp.select_by_visible_text('2019')\n",
    "\n",
    "\n",
    "    driver.find_element_by_xpath('//*[@id=\"button-'+str(x)+'\"]').click()\n",
    "\n",
    "    handles = driver.window_handles\n",
    "    for handle in handles:\n",
    "        driver.switch_to_window(handle)\n",
    "\n",
    "    print(driver.current_url)\n",
    "    # driver.close()\n",
    "\n",
    "    import requests \n",
    "    file_url = driver.current_url\n",
    "\n",
    "    r = requests.get(file_url, stream = True) \n",
    "    \n",
    "    n=x+60\n",
    "\n",
    "    with open('D:/covid-19/webscraping/'+str(n)+'.pdf','wb') as pdf: \n",
    "        for chunk in r.iter_content(chunk_size=1024): \n",
    "\n",
    "             # writing one chunk at a time to pdf file \n",
    "            if chunk: \n",
    "                 pdf.write(chunk)\n",
    "    driver.quit()"
   ]
  },
  {
   "cell_type": "code",
   "execution_count": null,
   "metadata": {},
   "outputs": [],
   "source": [
    " "
   ]
  }
 ],
 "metadata": {
  "kernelspec": {
   "display_name": "Python 3",
   "language": "python",
   "name": "python3"
  },
  "language_info": {
   "codemirror_mode": {
    "name": "ipython",
    "version": 3
   },
   "file_extension": ".py",
   "mimetype": "text/x-python",
   "name": "python",
   "nbconvert_exporter": "python",
   "pygments_lexer": "ipython3",
   "version": "3.6.10"
  }
 },
 "nbformat": 4,
 "nbformat_minor": 4
}
