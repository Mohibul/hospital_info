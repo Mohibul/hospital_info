{
 "cells": [
  {
   "cell_type": "code",
   "execution_count": 105,
   "metadata": {},
   "outputs": [],
   "source": [
    "import pandas as pd\n",
    "from sklearn.model_selection import train_test_split\n",
    "from openpyxl import load_workbook"
   ]
  },
  {
   "cell_type": "code",
   "execution_count": 120,
   "metadata": {},
   "outputs": [],
   "source": [
    "name = 'child_development'\n",
    "df = pd.read_excel('D:/bd health/District_health_demographic_dataset.xlsx',sheet_name=name)\n",
    "X,y = df[df.columns[0]], df[df.columns[1:]]\n",
    "X_train,X_test, y_train, y_test = train_test_split(X,y,test_size=0.3,random_state=0)\n",
    "df_test = pd.DataFrame(X_test)\n",
    "df_test[df.columns[1:]]=y_test\n",
    "\n",
    "df_train = pd.DataFrame(X_train)\n",
    "df_train[df.columns[1:]]=y_train\n",
    "\n",
    "df_test.to_csv('D:/bd health/upazilla excel files/'+name+'_test.csv')\n",
    "df_train.to_csv('D:/bd health/upazilla excel files/'+name+'_train.csv')"
   ]
  },
  {
   "cell_type": "code",
   "execution_count": 121,
   "metadata": {},
   "outputs": [],
   "source": [
    "filename = 'D:/bd health/district_test.xlsx'\n",
    "writer = pd.ExcelWriter(filename, engine='openpyxl')\n",
    "\n",
    "if os.path.exists(filename):\n",
    "    book = load_workbook(filename)\n",
    "    writer.book = book\n",
    "df_test.to_excel(writer,sheet_name=name)\n",
    "writer.save()\n",
    "writer.close()\n",
    "\n",
    "filename = 'D:/bd health/district_train.xlsx'\n",
    "writer = pd.ExcelWriter(filename, engine='openpyxl')\n",
    "\n",
    "if os.path.exists(filename):\n",
    "    book = load_workbook(filename)\n",
    "    writer.book = book\n",
    "df_train.to_excel(writer,sheet_name=name)\n",
    "writer.save()\n",
    "writer.close()"
   ]
  },
  {
   "cell_type": "code",
   "execution_count": null,
   "metadata": {},
   "outputs": [],
   "source": []
  }
 ],
 "metadata": {
  "kernelspec": {
   "display_name": "Python 3",
   "language": "python",
   "name": "python3"
  },
  "language_info": {
   "codemirror_mode": {
    "name": "ipython",
    "version": 3
   },
   "file_extension": ".py",
   "mimetype": "text/x-python",
   "name": "python",
   "nbconvert_exporter": "python",
   "pygments_lexer": "ipython3",
   "version": "3.6.10"
  }
 },
 "nbformat": 4,
 "nbformat_minor": 4
}
